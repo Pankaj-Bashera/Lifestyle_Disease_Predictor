{
 "cells": [
  {
   "cell_type": "code",
   "execution_count": 81,
   "id": "17e119cf",
   "metadata": {},
   "outputs": [],
   "source": [
    "from sklearn.linear_model import LogisticRegression\n",
    "from sklearn.preprocessing import LabelEncoder\n",
    "import pandas as pd\n",
    "import numpy as np"
   ]
  },
  {
   "cell_type": "code",
   "execution_count": 82,
   "id": "08c2ba0b",
   "metadata": {},
   "outputs": [],
   "source": [
    "df = pd.read_csv(\"../data/synthetic_lifestyle_disease.csv\")\n",
    "LE = LabelEncoder()\n",
    "cat = df.select_dtypes(include = [\"object\"]).columns\n",
    "for col in cat:\n",
    "    df[col] = LE.fit_transform(df[col])\n",
    "df.to_csv(\"../data/synthetic_lifestyle_disease_transformed.csv\")"
   ]
  },
  {
   "cell_type": "code",
   "execution_count": 83,
   "id": "9fd1c4ed",
   "metadata": {},
   "outputs": [
    {
     "data": {
      "text/plain": [
       "(        Age  Gender   BMI  ...  BloodPressure  BloodSugar  Cholesterol\n",
       " 0        56       1  18.6  ...             93         145          232\n",
       " 1        69       1  20.2  ...            102          97          259\n",
       " 2        46       1  16.1  ...            153          75          179\n",
       " 3        32       0  25.1  ...            128         166          249\n",
       " 4        60       0  26.9  ...             90          89          161\n",
       " ...     ...     ...   ...  ...            ...         ...          ...\n",
       " 499995   41       0  27.3  ...            159         110          273\n",
       " 499996   65       1  30.1  ...            145          90          175\n",
       " 499997   73       0  30.3  ...            135         136          210\n",
       " 499998   74       0  20.0  ...            102          98          172\n",
       " 499999   31       1  31.2  ...            105         156          219\n",
       " \n",
       " [500000 rows x 11 columns],\n",
       " 0         0\n",
       " 1         0\n",
       " 2         0\n",
       " 3         0\n",
       " 4         1\n",
       "          ..\n",
       " 499995    0\n",
       " 499996    0\n",
       " 499997    0\n",
       " 499998    1\n",
       " 499999    0\n",
       " Name: DiseaseRisk, Length: 500000, dtype: int64)"
      ]
     },
     "execution_count": 83,
     "metadata": {},
     "output_type": "execute_result"
    }
   ],
   "source": [
    "features = df[df.columns[:-1]]\n",
    "target = df[df.columns[-1]]\n",
    "features,target"
   ]
  },
  {
   "cell_type": "code",
   "execution_count": 84,
   "id": "b9afab64",
   "metadata": {},
   "outputs": [],
   "source": [
    "x_train = features[:300000][:]\n",
    "y_train = target[:300000]\n",
    "x_test = features[300000:][:]\n",
    "y_test = target[300000:]"
   ]
  },
  {
   "cell_type": "code",
   "execution_count": 85,
   "id": "5f269350",
   "metadata": {},
   "outputs": [],
   "source": [
    "LR = LogisticRegression(max_iter=1000,random_state=0)\n",
    "model = LR.fit(x_train,y_train)\n",
    "y_pred = model.predict(x_test)"
   ]
  },
  {
   "cell_type": "code",
   "execution_count": 86,
   "id": "1a5b1795",
   "metadata": {},
   "outputs": [
    {
     "data": {
      "text/plain": [
       "np.float64(0.178935)"
      ]
     },
     "execution_count": 86,
     "metadata": {},
     "output_type": "execute_result"
    }
   ],
   "source": [
    "pred_arr = []\n",
    "for x,y in zip(y_pred,y_test):\n",
    "    pred_arr.append(np.bitwise_xor(x,y))\n",
    "mse = np.mean(pred_arr)\n",
    "mse"
   ]
  }
 ],
 "metadata": {
  "kernelspec": {
   "display_name": "Python 3",
   "language": "python",
   "name": "python3"
  },
  "language_info": {
   "codemirror_mode": {
    "name": "ipython",
    "version": 3
   },
   "file_extension": ".py",
   "mimetype": "text/x-python",
   "name": "python",
   "nbconvert_exporter": "python",
   "pygments_lexer": "ipython3",
   "version": "3.13.5"
  }
 },
 "nbformat": 4,
 "nbformat_minor": 5
}
